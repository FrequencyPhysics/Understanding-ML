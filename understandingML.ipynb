{
 "cells": [
  {
   "cell_type": "code",
   "execution_count": null,
   "id": "0e628610",
   "metadata": {},
   "outputs": [],
   "source": [
    "# Importing data using pandas\n",
    "import pandas as pd\n",
    "from sklearn.tree import DecisionTreeClassifier # Using Decision Tree Algorithm\n",
    "from sklearn.model_selection import train_test_split # For splitting dataset\n",
    "from sklearn.metrics import accuracy_score\n",
    "from sklearn import tree\n",
    "\n",
    "# Load dataset\n",
    "music_data = pd.read_csv('music1.csv')\n",
    "\n",
    "# Define input (features) and output (target)\n",
    "# Features: everything except genre\n",
    "x = music_data.drop(columns=['genre'])\n",
    "y = music_data['genre']\n",
    "\n",
    "# Splitting dataset\n",
    "X_train, X_test, y_train, y_test = train_test_split(x, y, test_size=0.2)\n",
    "\n",
    "# Initialize and train Decision Tree model\n",
    "model = DecisionTreeClassifier()\n",
    "model.fit(X_train, y_train)\n",
    "\n",
    "# Making predictions on the test set\n",
    "predictions = model.predict(X_test)\n",
    "predictions\n",
    "\n",
    "# Evaluate model accuracy\n",
    "score = accuracy_score(y_test, predictions)\n",
    "score\n",
    "\n",
    "# Export the trained Decision Tree to a DOT file (for visualization with Graphviz)\n",
    "tree.export_graphviz(model, out_file='music-recommender.dot', \n",
    "                     feature_names=['age', 'gender'], \n",
    "                     class_names=sorted(y.unique()),\n",
    "                     label=\"all\",\n",
    "                     rounded=True,\n",
    "                     filled=True) "
   ]
  }
 ],
 "metadata": {
  "kernelspec": {
   "display_name": "base",
   "language": "python",
   "name": "python3"
  },
  "language_info": {
   "codemirror_mode": {
    "name": "ipython",
    "version": 3
   },
   "file_extension": ".py",
   "mimetype": "text/x-python",
   "name": "python",
   "nbconvert_exporter": "python",
   "pygments_lexer": "ipython3",
   "version": "3.12.7"
  }
 },
 "nbformat": 4,
 "nbformat_minor": 5
}
